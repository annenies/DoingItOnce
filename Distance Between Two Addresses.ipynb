{
 "cells": [
  {
   "cell_type": "markdown",
   "metadata": {},
   "source": [
    "# Using Google Maps API to Get Distance Between Two Addresses\n",
    "## This will give you the driving distance and driving time.\n",
    "### API Limits (standard):\n",
    "    2,500 free elements per day, calculated as the sum of client-side and server-side queries.\n",
    "    Maximum of 25 origins or 25 destinations per request.\n",
    "    100 elements per request.\n",
    "    100 elements per second, calculated as the sum of client-side and server-side queries. "
   ]
  },
  {
   "cell_type": "markdown",
   "metadata": {},
   "source": [
    "## Get your API Key\n",
    "#### If you don't already have one, get an API Key from https://developers.google.com/maps/documentation/distance-matrix/"
   ]
  },
  {
   "cell_type": "markdown",
   "metadata": {},
   "source": [
    "## Replace # with your API Key "
   ]
  },
  {
   "cell_type": "code",
   "execution_count": 1,
   "metadata": {
    "collapsed": true
   },
   "outputs": [],
   "source": [
    "key = '#'"
   ]
  },
  {
   "cell_type": "markdown",
   "metadata": {},
   "source": [
    "## Replace # with the name of your file\n",
    "#### Make sure that your data is in Sheet1. \n",
    "#### Sheet1 should have these columns: 'Origin/Destination', 'TripID', 'Address', 'City', 'State', 'Zip Code'.\n"
   ]
  },
  {
   "cell_type": "code",
   "execution_count": 3,
   "metadata": {
    "collapsed": true
   },
   "outputs": [],
   "source": [
    "file = '#'"
   ]
  },
  {
   "cell_type": "markdown",
   "metadata": {},
   "source": [
    "## Replace # with the name that you want the output file to have\n",
    "#### The file name should end in .csv"
   ]
  },
  {
   "cell_type": "code",
   "execution_count": null,
   "metadata": {
    "collapsed": true
   },
   "outputs": [],
   "source": [
    "newfile = '#.csv'"
   ]
  },
  {
   "cell_type": "code",
   "execution_count": 2,
   "metadata": {
    "collapsed": true
   },
   "outputs": [],
   "source": [
    "# Import necessary packages\n",
    "import pandas as pd\n",
    "import requests"
   ]
  },
  {
   "cell_type": "code",
   "execution_count": null,
   "metadata": {
    "collapsed": true
   },
   "outputs": [],
   "source": [
    "# This reads your file into a dataframe\n",
    "df = pd.read_excel(file,'Sheet1')"
   ]
  },
  {
   "cell_type": "code",
   "execution_count": null,
   "metadata": {
    "collapsed": true
   },
   "outputs": [],
   "source": [
    "# This converts all of the spaces in your addresses to +\n",
    "df['Address'] = df['Address'].str.replace(' ', '+')\n",
    "df['City'] = df['City'].str.replace(' ', '+')\n",
    "# This Makes a new column called Full Address that is the complete address\n",
    "df['Full Address'] = df['Address']+'+'+df['City']+'+'+df['State']+'+'+df['Zip Code'].astype(str)"
   ]
  },
  {
   "cell_type": "code",
   "execution_count": null,
   "metadata": {
    "collapsed": true
   },
   "outputs": [],
   "source": [
    "# This changes the shape of your data frame\n",
    "df = df.pivot(index='TripID', columns='Origin/Destination', values='Full Address')"
   ]
  },
  {
   "cell_type": "code",
   "execution_count": null,
   "metadata": {
    "collapsed": true
   },
   "outputs": [],
   "source": [
    "# Setup some stuff we'll need to finish\n",
    "df['distance'] = 0\n",
    "df['duration'] = 0\n",
    "s = df.shape[0]"
   ]
  },
  {
   "cell_type": "code",
   "execution_count": null,
   "metadata": {
    "collapsed": true
   },
   "outputs": [],
   "source": [
    "# Going to Google to get the information for each origin/destination pair.\n",
    "for i in range(s):\n",
    "    url='https://maps.googleapis.com/maps/api/distancematrix/json?units=imperial&origins='+df.iloc[i,1]+'&destinations='+df.iloc[i,0]+'&key='+key\n",
    "    try:\n",
    "        x = requests.get(url)\n",
    "        df.iloc[i,2] = x.json()['rows'][0]['elements'][0]['distance']['text']\n",
    "        df.iloc[i,3] = x.json()['rows'][0]['elements'][0]['duration']['text']\n",
    "    except:\n",
    "        continue"
   ]
  },
  {
   "cell_type": "code",
   "execution_count": null,
   "metadata": {
    "collapsed": true
   },
   "outputs": [],
   "source": [
    "# Save the new file\n",
    "df.to_csv(newfile)"
   ]
  },
  {
   "cell_type": "markdown",
   "metadata": {},
   "source": [
    "# The End!"
   ]
  }
 ],
 "metadata": {
  "kernelspec": {
   "display_name": "Python 3",
   "language": "python",
   "name": "python3"
  },
  "language_info": {
   "codemirror_mode": {
    "name": "ipython",
    "version": 3
   },
   "file_extension": ".py",
   "mimetype": "text/x-python",
   "name": "python",
   "nbconvert_exporter": "python",
   "pygments_lexer": "ipython3",
   "version": "3.6.0"
  }
 },
 "nbformat": 4,
 "nbformat_minor": 2
}
